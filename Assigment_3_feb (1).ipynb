{
 "cells": [
  {
   "cell_type": "markdown",
   "id": "b88c025a-814f-4acb-a78e-6cd316328a8e",
   "metadata": {},
   "source": [
    "# Assignment "
   ]
  },
  {
   "cell_type": "markdown",
   "id": "b5beb68e-8933-45ad-9288-c41147bfadb0",
   "metadata": {},
   "source": [
    "Ans 1-\n",
    "Def keyword is used to create a function"
   ]
  },
  {
   "cell_type": "code",
   "execution_count": 1,
   "id": "d0bd4240-e1a4-4337-bf4b-2c4277b5b0a4",
   "metadata": {},
   "outputs": [],
   "source": [
    "def odd():\n",
    "    l=[]\n",
    "    for i in range(1,26,1):\n",
    "        if i%2!=0:\n",
    "            l.append(i)\n",
    "    return l"
   ]
  },
  {
   "cell_type": "code",
   "execution_count": 2,
   "id": "6257a10c-cb89-4fac-8aab-e2c3d9bb3d04",
   "metadata": {},
   "outputs": [
    {
     "data": {
      "text/plain": [
       "[1, 3, 5, 7, 9, 11, 13, 15, 17, 19, 21, 23, 25]"
      ]
     },
     "execution_count": 2,
     "metadata": {},
     "output_type": "execute_result"
    }
   ],
   "source": [
    "odd()"
   ]
  },
  {
   "cell_type": "markdown",
   "id": "3e94eca6-201c-4c03-bf64-d92246bd0e05",
   "metadata": {},
   "source": [
    "Ans 2 - \n",
    "--> *args is used to input series of data at once and gave multiple inputs to def function to work on\n",
    "--> **kwargs is used to input data in a dict format (keys : values) and give mmultiple inputs to the def function to work on"
   ]
  },
  {
   "cell_type": "code",
   "execution_count": 3,
   "id": "0efbaf0a-df6b-4e75-a46b-353689084ebb",
   "metadata": {},
   "outputs": [],
   "source": [
    "# Example of *args\n",
    "def add(*args):\n",
    "    l=[]\n",
    "    for i in args:\n",
    "        i=i+5            # adding 5 in every values of \"args\" \n",
    "        l.append(i)     # insert changed data in list\n",
    "    return l"
   ]
  },
  {
   "cell_type": "code",
   "execution_count": 4,
   "id": "1dc2cb72-bd89-4ac2-a055-aebbdd32e9eb",
   "metadata": {},
   "outputs": [
    {
     "data": {
      "text/plain": [
       "[6, 7, 8, 9, 9, 10, 10, 10, 10, 13]"
      ]
     },
     "execution_count": 4,
     "metadata": {},
     "output_type": "execute_result"
    }
   ],
   "source": [
    "add(1,2,3,4,4,5,5,5,5,8)"
   ]
  },
  {
   "cell_type": "code",
   "execution_count": 5,
   "id": "a7f82547-05ed-4202-9908-b711cd73870c",
   "metadata": {},
   "outputs": [],
   "source": [
    "# Example of **kwargs\n",
    "def add1(**kwargs):\n",
    "    d={}\n",
    "    for k,v in kwargs.items():       # extract the value from \"kwargs\" and insert data keys in k and values in v\n",
    "        v=v+5                        # adding 5 in every value in \"kwargs\"\n",
    "        d[k]=v                       # inserting data in d (dictionary)\n",
    "    return d"
   ]
  },
  {
   "cell_type": "code",
   "execution_count": 6,
   "id": "a059524c-a23f-4abc-8afd-507163842e81",
   "metadata": {},
   "outputs": [
    {
     "data": {
      "text/plain": [
       "{'key1': 10, 'key2': 15, 'key3': 20, 'key4': 25}"
      ]
     },
     "execution_count": 6,
     "metadata": {},
     "output_type": "execute_result"
    }
   ],
   "source": [
    "add1(key1 = 5,key2 = 10 ,key3 = 15,key4 =20)"
   ]
  },
  {
   "cell_type": "markdown",
   "id": "50e81a69-aa12-47e8-b29d-fae3a71e5135",
   "metadata": {},
   "source": [
    "Ans 3 - \n",
    "An iterator is an object which is used to break the collection of data into a into single digits and it is used in backhand side of the for loop .Iterable only can become a iterator in python ex-(list ,touple ,dictionary ,set) and display it one by one.\n",
    "\n",
    "To iniciallize the iterator \"iter()\" method is used to make a iterable an iterator in python\n",
    "\n",
    "For the iteration \"next()\" method is used to show data one by one"
   ]
  },
  {
   "cell_type": "code",
   "execution_count": 7,
   "id": "7cbe309d-d25d-42b3-aed3-e1389a85e4f4",
   "metadata": {},
   "outputs": [
    {
     "name": "stdout",
     "output_type": "stream",
     "text": [
      "2\n",
      "4\n",
      "6\n",
      "8\n",
      "10\n"
     ]
    }
   ],
   "source": [
    "l=[2,4,6,8,10,12,14,16,18,20]\n",
    "l=iter(l)             # only the iterable can become a iterator\n",
    "for i in range(5):            \n",
    "    print(next(l))    # next in loop print breaked values again and again"
   ]
  },
  {
   "cell_type": "markdown",
   "id": "c1b633f7-b9c7-4126-a8a9-9b2c98c36c9c",
   "metadata": {},
   "source": [
    "Ans 4 -\n",
    "Generator function is used to generate a sequence of values and it stores the values in variable part by part , because of that it did'nt have to process the data at once and can be use in large data .Genrator is by default a iterator.\n",
    "\n",
    "Instead of \"return\" statement \"yield\" statement is used to print the generator data which you want to gave"
   ]
  },
  {
   "cell_type": "code",
   "execution_count": 8,
   "id": "06139d57-1698-4b33-b369-25d156ea900d",
   "metadata": {},
   "outputs": [],
   "source": [
    "# fibonacci series\n",
    "def test(n):\n",
    "    f,s=0,1\n",
    "    yield f\n",
    "    yield s\n",
    "    for i in range(2,n,1):     # we yield 0,1 as f,s so we start the loop from 2\n",
    "        t=f+s\n",
    "        yield t\n",
    "        f,s=s,t"
   ]
  },
  {
   "cell_type": "code",
   "execution_count": 9,
   "id": "6b05a807-875b-414a-827e-cc6e27f52e63",
   "metadata": {},
   "outputs": [
    {
     "name": "stdin",
     "output_type": "stream",
     "text": [
      "enter the ending value = 15\n"
     ]
    },
    {
     "name": "stdout",
     "output_type": "stream",
     "text": [
      "0\n",
      "1\n",
      "1\n",
      "2\n",
      "3\n",
      "5\n",
      "8\n",
      "13\n",
      "21\n",
      "34\n",
      "55\n",
      "89\n",
      "144\n",
      "233\n",
      "377\n"
     ]
    }
   ],
   "source": [
    "n=int(input(\"enter the ending value =\"))\n",
    "for i in test(n):\n",
    "    print(i)"
   ]
  },
  {
   "cell_type": "raw",
   "id": "7181b72a-c592-4cdd-837e-66222546fa16",
   "metadata": {},
   "source": [
    "Ans 5 -"
   ]
  },
  {
   "cell_type": "code",
   "execution_count": 10,
   "id": "e0fbf963-0368-4222-b015-09509695b702",
   "metadata": {},
   "outputs": [],
   "source": [
    "def prime():\n",
    "    sieve = [True] * 1000\n",
    "    for i in range(2, 1000):\n",
    "        if sieve[i]:\n",
    "            yield i\n",
    "            for j in range(i*i, 1000, i):\n",
    "                sieve[j] = False"
   ]
  },
  {
   "cell_type": "code",
   "execution_count": 11,
   "id": "11caa24a-77ff-435b-8bf2-3f1abc07ec3c",
   "metadata": {},
   "outputs": [
    {
     "name": "stdout",
     "output_type": "stream",
     "text": [
      "2\n",
      "3\n",
      "5\n",
      "7\n",
      "11\n",
      "13\n",
      "17\n",
      "19\n",
      "23\n",
      "29\n",
      "31\n",
      "37\n",
      "41\n",
      "43\n",
      "47\n",
      "53\n",
      "59\n",
      "61\n",
      "67\n",
      "71\n"
     ]
    }
   ],
   "source": [
    "prime=prime()\n",
    "for i in range(20):\n",
    "    print(next(prime))"
   ]
  },
  {
   "cell_type": "raw",
   "id": "398e7aaf-33dd-43a5-8163-0565e95cfc55",
   "metadata": {},
   "source": [
    "Ans 6 -"
   ]
  },
  {
   "cell_type": "code",
   "execution_count": 12,
   "id": "106c3a0d-73ff-4113-8e53-94efe7d9a80e",
   "metadata": {},
   "outputs": [],
   "source": [
    "def fibo(n):\n",
    "    f,s=0,1\n",
    "    yield f\n",
    "    yield s\n",
    "    i=2\n",
    "    while i<n:\n",
    "        t=f+s\n",
    "        yield t\n",
    "        f,s=s,t\n",
    "        i=i+1"
   ]
  },
  {
   "cell_type": "code",
   "execution_count": 13,
   "id": "9a99e894-40c0-47d7-a6f7-fddb19db0d6a",
   "metadata": {},
   "outputs": [
    {
     "name": "stdout",
     "output_type": "stream",
     "text": [
      "0\n",
      "1\n",
      "1\n",
      "2\n",
      "3\n",
      "5\n",
      "8\n",
      "13\n",
      "21\n",
      "34\n"
     ]
    }
   ],
   "source": [
    "for i in fibo(10):\n",
    "    print(i)"
   ]
  },
  {
   "cell_type": "raw",
   "id": "095861c5-28e6-431e-af59-c439dd8a3a24",
   "metadata": {},
   "source": [
    "Ans 7 -"
   ]
  },
  {
   "cell_type": "code",
   "execution_count": 14,
   "id": "3112c9ac-df7d-4128-aa17-c8d5285a99f4",
   "metadata": {},
   "outputs": [],
   "source": [
    "def test1(n):\n",
    "    l=[]\n",
    "    for i in n:\n",
    "        l.append(i)     # to break the str into words in the loop and add those words in list \n",
    "    yield l "
   ]
  },
  {
   "cell_type": "code",
   "execution_count": 15,
   "id": "68330406-f4f6-4257-9c10-c72902f5c77f",
   "metadata": {},
   "outputs": [
    {
     "name": "stdout",
     "output_type": "stream",
     "text": [
      "['p', 'w', 's', 'k', 'i', 'l', 'l', 's']\n"
     ]
    }
   ],
   "source": [
    "n=\"pwskills\"\n",
    "for i in test1(n):\n",
    "    print(i)"
   ]
  },
  {
   "cell_type": "raw",
   "id": "c696bdc7-1058-4d01-b499-f3c244691b90",
   "metadata": {},
   "source": [
    "Ans 8 -"
   ]
  },
  {
   "cell_type": "code",
   "execution_count": 22,
   "id": "f605bef2-8e15-488a-b943-a8bf73a42247",
   "metadata": {},
   "outputs": [
    {
     "name": "stdin",
     "output_type": "stream",
     "text": [
      "enter the value you want to input = 1221\n"
     ]
    },
    {
     "name": "stdout",
     "output_type": "stream",
     "text": [
      "this is a pallindrome\n"
     ]
    }
   ],
   "source": [
    "n=int(input(\"enter the value you want to input =\"))\n",
    "rev=0\n",
    "m=n\n",
    "while n>0:\n",
    "    digit=n%10\n",
    "    rev=(rev*10)+digit\n",
    "    n=n//10\n",
    "if(rev==m):\n",
    "    print(\"this is a pallindrome\")\n",
    "else:\n",
    "    print(\"this is not a pallindrome\")"
   ]
  },
  {
   "cell_type": "raw",
   "id": "f73184e3-0dc6-4010-91d4-73d414ab1b8e",
   "metadata": {},
   "source": [
    "Ans 9 -"
   ]
  },
  {
   "cell_type": "code",
   "execution_count": 33,
   "id": "0b06fc02-a9f8-4730-a8d3-2ca56fef671d",
   "metadata": {},
   "outputs": [
    {
     "data": {
      "text/plain": [
       "[1,\n",
       " 3,\n",
       " 5,\n",
       " 7,\n",
       " 9,\n",
       " 11,\n",
       " 13,\n",
       " 15,\n",
       " 17,\n",
       " 19,\n",
       " 21,\n",
       " 23,\n",
       " 25,\n",
       " 27,\n",
       " 29,\n",
       " 31,\n",
       " 33,\n",
       " 35,\n",
       " 37,\n",
       " 39,\n",
       " 41,\n",
       " 43,\n",
       " 45,\n",
       " 47,\n",
       " 49,\n",
       " 51,\n",
       " 53,\n",
       " 55,\n",
       " 57,\n",
       " 59,\n",
       " 61,\n",
       " 63,\n",
       " 65,\n",
       " 67,\n",
       " 69,\n",
       " 71,\n",
       " 73,\n",
       " 75,\n",
       " 77,\n",
       " 79,\n",
       " 81,\n",
       " 83,\n",
       " 85,\n",
       " 87,\n",
       " 89,\n",
       " 91,\n",
       " 93,\n",
       " 95,\n",
       " 97,\n",
       " 99]"
      ]
     },
     "execution_count": 33,
     "metadata": {},
     "output_type": "execute_result"
    }
   ],
   "source": [
    "odd=[i for i in range(1,101) if i%2!=0]\n",
    "odd"
   ]
  },
  {
   "cell_type": "code",
   "execution_count": null,
   "id": "14b290cc-c2e0-49d6-b1b1-067ed861fb89",
   "metadata": {},
   "outputs": [],
   "source": []
  }
 ],
 "metadata": {
  "kernelspec": {
   "display_name": "Python 3 (ipykernel)",
   "language": "python",
   "name": "python3"
  },
  "language_info": {
   "codemirror_mode": {
    "name": "ipython",
    "version": 3
   },
   "file_extension": ".py",
   "mimetype": "text/x-python",
   "name": "python",
   "nbconvert_exporter": "python",
   "pygments_lexer": "ipython3",
   "version": "3.10.8"
  }
 },
 "nbformat": 4,
 "nbformat_minor": 5
}
