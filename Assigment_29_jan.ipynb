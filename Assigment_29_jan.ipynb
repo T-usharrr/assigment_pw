{
 "cells": [
  {
   "cell_type": "markdown",
   "id": "d1a59796-f5d8-4c8d-92c9-4be6e51f36ac",
   "metadata": {},
   "source": [
    "# Assigment"
   ]
  },
  {
   "cell_type": "markdown",
   "id": "d55d8ddc-6324-40ef-a9aa-ac9c7198f1a1",
   "metadata": {},
   "source": [
    "Ans 1 - Python was created in the late 1980s by Guido van Rossum"
   ]
  },
  {
   "cell_type": "markdown",
   "id": "0497c4a0-18c6-4fd5-8ca6-04f1923b7e51",
   "metadata": {},
   "source": [
    "Ans 2 - Python is a high-level, general-purpose programming language that supports multiple programming paradigms, including:\n",
    "\n",
    "1. Procedural programming\n",
    "2. Oops\n",
    "3. function programming\n",
    "4. event-driven programming\n",
    "5. concurrent programming"
   ]
  },
  {
   "cell_type": "markdown",
   "id": "8d7b4094-e2d4-4b3d-a443-8cf59d417a28",
   "metadata": {},
   "source": [
    "Ans 3 - Yes, Python is a case-sensitive language when it comes to identifiers such as variable names, function names, class names, and so on. This means that identifiers with different capitalization are treated as different entities by the Python interpreter"
   ]
  },
  {
   "cell_type": "markdown",
   "id": "8161e900-b36a-42cd-a1bd-9a9a45930073",
   "metadata": {},
   "source": [
    "Ans 4 - The current extension for a Python source code file is .py. This is the standard file extension used for Python modules, scripts, and other source code files. When you save a Python program or script, you should use the .py extension in the filename to indicate that it contains Python code."
   ]
  },
  {
   "cell_type": "markdown",
   "id": "af892195-fd30-4625-9535-765b249778bc",
   "metadata": {},
   "source": [
    "Ans 5 - Python is a interpreted language"
   ]
  },
  {
   "cell_type": "markdown",
   "id": "36de0887-fb6d-42b0-80a3-d0951ad26a8a",
   "metadata": {},
   "source": [
    "Ans 6 - In Python, you can define various blocks of code using different syntax constructs. Some of the most common blocks of code in Python include\n",
    "\n",
    "1. function defination block\n",
    "2. loop statement block\n",
    "3. exeption statement block\n",
    "4. class defination block"
   ]
  },
  {
   "cell_type": "markdown",
   "id": "0227a7c5-1fbf-4d32-bfbb-25f7ec5ff89d",
   "metadata": {},
   "source": [
    "Ans 7 - \"#\" is used in to comment on the single line in python"
   ]
  },
  {
   "cell_type": "markdown",
   "id": "70d0c4f0-a48e-4e94-8d79-d9fc37a12764",
   "metadata": {},
   "source": [
    "Ans 8 - We can find the version by the following method\n",
    "1. Using sys. version method.\n",
    "2. Using python_version() function.\n",
    "3. Using Python -V command."
   ]
  },
  {
   "cell_type": "markdown",
   "id": "41d3a3ae-4284-46e2-9799-2b85fa661493",
   "metadata": {},
   "source": [
    "Ans 9 - Python supports the creation of anonymous functions at runtime using a constant called lambda.\n",
    "\n",
    "The lambda keyword allows you to create small, one-line functions without having to define a separate function using the def keyword. Anonymous functions created using lambda are also known as lambda functions or lambda expressions"
   ]
  },
  {
   "cell_type": "markdown",
   "id": "338d02dc-affa-44b7-80b0-64853335f0bf",
   "metadata": {},
   "source": [
    "Ans 10 - PIP stands for \"Pip Installs Packages\" or \"Pip Installs Python\"."
   ]
  },
  {
   "cell_type": "markdown",
   "id": "4a318da4-954b-4782-a764-0d81298735f4",
   "metadata": {},
   "source": [
    "Ans 11 - The few built in function present in python are:-\n",
    "1. len()\n",
    "2. type()\n",
    "3. sum()\n",
    "4. max()\n",
    "5. title()\n",
    "6. isalnum()"
   ]
  },
  {
   "cell_type": "markdown",
   "id": "b7297f61-8745-4eff-a5c8-eccc27d77bea",
   "metadata": {},
   "source": [
    "Ans 12 - In Python, the maximum length of an identifier is technically unlimited. However, it is recommended to keep the length of identifiers to a reasonable length for the sake of readability and maintainability"
   ]
  },
  {
   "cell_type": "markdown",
   "id": "cebc5d61-283d-4794-9c4f-55c10c620d8c",
   "metadata": {},
   "source": [
    "Ans 13 - Python is a popular programming language that offers many benefits for developers. Here are some of the key advantages of using Python:\n",
    "\n",
    "1. Easy to learn: Python has a simple and easy-to-understand syntax that is easy for beginners to learn.\n",
    "\n",
    "2. Large and supportive community: Python has a large and active community of developers who contribute to the language, create libraries and frameworks, and provide support through forums, blogs, and social media.\n",
    "\n",
    "3. Versatile: Python can be used for a wide range of applications, from web development and data science to artificial intelligence and machine learning.\n",
    "\n",
    "4. High-level language: Python is a high-level language, which means that it abstracts away many low-level details and provides built-in data structures and functions that simplify programming tasks."
   ]
  },
  {
   "cell_type": "markdown",
   "id": "75307609-e1b9-4c24-a0dd-0a63f1d14c37",
   "metadata": {},
   "source": [
    "Ans 14 - Memory management in Python is handled automatically by the Python interpreter through a technique called reference counting.\n",
    "\n",
    "Reference counting works by keeping track of how many references (i.e. variables, objects, etc.) point to a particular object in memory. When the reference count for an object reaches zero, it means that the object is no longer being used and can be safely removed from memory.\n",
    "\n",
    "In addition to reference counting, Python also uses a garbage collector to periodically check for and remove objects that are no longer being referenced by any part of the program.\n",
    "\n"
   ]
  },
  {
   "cell_type": "markdown",
   "id": "44e5ae6d-1ab0-416c-8bc7-057e5fb09cbe",
   "metadata": {},
   "source": [
    "Ans 15 - Here are the steps to install Python and set the path variable:\n",
    "\n",
    "1. Download Python: Go to the official Python website at python.org/downloads and download the latest version of Python for your operating system.\n",
    "\n",
    "2. Install Python: Run the downloaded installer and follow the prompts to install Python on your system.\n",
    "\n",
    "3. Add Python to the PATH variable: After installing Python, you need to add the Python executable directory to your PATH environment variable so that you can run Python from the command prompt. Here are the steps to do this:\n",
    "\n",
    " -->Open the Start menu and search for \"Environment Variables\".\n",
    " \n",
    " -->Select \"Edit the system environment variables\" from the search results.\n",
    " \n",
    " -->In the System Properties window, click the \"Environment Variables\" button.\n",
    " \n",
    " -->In the Environment Variables window, scroll down to the \"System variables\" section and find the \"Path\" variable.\n",
    " \n",
    " -->Click the \"Edit\" button to edit the Path variable.\n",
    " \n",
    " -->Add the path to your Python installation directory (e.g. C:\\Python39) to the list of paths in the Variable value field. Make sure to separate each       path with a semicolon (;).\n",
    " \n",
    " -->Click \"OK\" to save the changes and close the Environment Variables windows.\n",
    " \n",
    " -->Verify installation: Open a new command prompt window and type \"python\" to verify that Python is installed and working correctly. You should see         the Python version number and a \">>>\" prompt indicating that you can start typing Python code.\n",
    " \n",
    "That's it! You have successfully installed Python and set the PATH variable on your system."
   ]
  },
  {
   "cell_type": "markdown",
   "id": "016d589c-0d7d-4564-92e8-7e656f6775e1",
   "metadata": {},
   "source": [
    "Ans 16 - Yes , indention is required in the python code. In Python, indentation is used to define the scope and structure of code blocks, such as function definitions, loops, and conditional statements.\n",
    "\n",
    "In other programming languages, such as C or Java, code blocks are defined using curly braces ({ }) or other syntax. However, in Python, code blocks are defined by their indentation level. This means that all code within the same block must be indented to the same level."
   ]
  },
  {
   "cell_type": "markdown",
   "id": "dcaa29fd-4ed1-4a7c-8862-d639d7d6083f",
   "metadata": {},
   "source": []
  }
 ],
 "metadata": {
  "kernelspec": {
   "display_name": "Python 3 (ipykernel)",
   "language": "python",
   "name": "python3"
  },
  "language_info": {
   "codemirror_mode": {
    "name": "ipython",
    "version": 3
   },
   "file_extension": ".py",
   "mimetype": "text/x-python",
   "name": "python",
   "nbconvert_exporter": "python",
   "pygments_lexer": "ipython3",
   "version": "3.10.8"
  }
 },
 "nbformat": 4,
 "nbformat_minor": 5
}
