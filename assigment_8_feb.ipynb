{
 "cells": [
  {
   "cell_type": "markdown",
   "id": "2c4c1fbc-f6af-49c5-946e-d24d81ab5f26",
   "metadata": {},
   "source": [
    "# Assignment"
   ]
  },
  {
   "cell_type": "markdown",
   "id": "57d3b60b-f6e5-4488-aa28-982b85e75691",
   "metadata": {},
   "source": [
    " Ans 1 - Abstraction is used to make the code lot more easier ,it is also known as the skeleton of the class so that other class can call and \n",
    "use according to their self and that structure can be used 1 or more than one time if the programmer wants to .To make the structure of the class for other classes use we have to import \"abc\" and use \"@abc.abstractmethod\" so that the class can take the structure of that parent class ."
   ]
  },
  {
   "cell_type": "code",
   "execution_count": 1,
   "id": "32fdc3e9-743a-4fa5-9bde-735d680003a7",
   "metadata": {},
   "outputs": [],
   "source": [
    "import abc\n",
    "class parent_class:\n",
    "    @abc.abstractmethod\n",
    "    def name(self):\n",
    "        pass\n",
    "    @abc.abstractmethod\n",
    "    def roll_no(self):\n",
    "        pass\n",
    "    @abc.abstractmethod\n",
    "    def section(self):\n",
    "        pass"
   ]
  },
  {
   "cell_type": "code",
   "execution_count": 6,
   "id": "752fbff0-23c7-4b4f-8eb5-c83c300b85b6",
   "metadata": {},
   "outputs": [],
   "source": [
    "class school_1(parent_class):\n",
    "    def name(self ,name):\n",
    "        self.name = name\n",
    "    def roll_no(self ,roll_no):\n",
    "        self.roll_no = roll_no\n",
    "    def section(self ,section):\n",
    "        self.section = section\n",
    "    def display_data1(self):\n",
    "        return f' name : {self.name} , roll no : {self.roll_no} , section : {self.section} '"
   ]
  },
  {
   "cell_type": "code",
   "execution_count": 7,
   "id": "640ed833-1efe-41ec-87c9-d50e12f835ca",
   "metadata": {},
   "outputs": [],
   "source": [
    "class school_2(parent_class):\n",
    "    def name(self ,name):\n",
    "        self.name = name\n",
    "    def roll_no(self ,roll_no):\n",
    "        self.roll_no = roll_no\n",
    "    def section(self , section):\n",
    "        self.section = section\n",
    "    def display_data2(self):\n",
    "        return f' name : {self.name} , roll no : {self.roll_no} , section : {self.section} '"
   ]
  },
  {
   "cell_type": "code",
   "execution_count": 8,
   "id": "536677c8-773e-4874-a93d-e804f9505ff3",
   "metadata": {},
   "outputs": [],
   "source": [
    "school_1 = school_1()\n",
    "school_2 = school_2()"
   ]
  },
  {
   "cell_type": "code",
   "execution_count": 9,
   "id": "eb7e607e-5fbd-4990-bf4a-55bd1e64af95",
   "metadata": {},
   "outputs": [
    {
     "data": {
      "text/plain": [
       "' name : Tushar , roll no : 12 , section : A '"
      ]
     },
     "execution_count": 9,
     "metadata": {},
     "output_type": "execute_result"
    }
   ],
   "source": [
    "school_1.name(\"Tushar\")\n",
    "school_1.roll_no(12)\n",
    "school_1.section(\"A\")\n",
    "school_1.display_data1()"
   ]
  },
  {
   "cell_type": "code",
   "execution_count": 10,
   "id": "58d73d8e-0cea-4a06-8a9c-bc073cf98dd1",
   "metadata": {},
   "outputs": [
    {
     "data": {
      "text/plain": [
       "' name : Rohan , roll no : 12 , section : B '"
      ]
     },
     "execution_count": 10,
     "metadata": {},
     "output_type": "execute_result"
    }
   ],
   "source": [
    "school_2.name(\"Rohan\")\n",
    "school_2.roll_no(12)\n",
    "school_2.section(\"B\")\n",
    "school_2.display_data2()"
   ]
  },
  {
   "cell_type": "markdown",
   "id": "2f05b72a-c27a-4708-a87b-cedfed3284ac",
   "metadata": {},
   "source": [
    "Ans 2 - Abstraction is a process of hiding the implementation details of an object and only showing the relevant information to the user. It provides a high-level view of the object and allows the user to interact with it without knowing the internal details. Abstraction is achieved through the use of abstract classes, interfaces, and methods.\n",
    "\n",
    "Encapsulation is the process of wrapping the data and behavior of an object into a single unit, called a class. It allows the object to control access to its data and behavior, and ensures that the data is only modified in a controlled way. Encapsulation is achieved by using access modifiers such as public, private, and protected to control access to the class members."
   ]
  },
  {
   "cell_type": "code",
   "execution_count": 11,
   "id": "96debf0e-7233-4995-b9dd-eee181538a58",
   "metadata": {},
   "outputs": [],
   "source": [
    "# Encapsulation\n",
    "class test:\n",
    "    def __init__(self ,model ,year ,speed ):\n",
    "        self.model = model\n",
    "        self.__year = year\n",
    "        self.__speed = speed\n",
    "    def display_data(self):\n",
    "        return f' Model :{self.model} ,Year :{self.__year} ,speed :{self.__speed} '"
   ]
  },
  {
   "cell_type": "code",
   "execution_count": 12,
   "id": "0c64a763-b8ff-487a-8f95-1f466d5caba3",
   "metadata": {},
   "outputs": [],
   "source": [
    "test = test(\"Toyota\",2007,90)"
   ]
  },
  {
   "cell_type": "code",
   "execution_count": 14,
   "id": "189b6a7c-304d-4b5c-97b9-c96e81bcbd27",
   "metadata": {},
   "outputs": [
    {
     "data": {
      "text/plain": [
       "'Toyota'"
      ]
     },
     "execution_count": 14,
     "metadata": {},
     "output_type": "execute_result"
    }
   ],
   "source": [
    "test.model"
   ]
  },
  {
   "cell_type": "code",
   "execution_count": null,
   "id": "c35bbf44-3e8e-4895-9b6a-68bcbbcedf77",
   "metadata": {},
   "outputs": [],
   "source": [
    "test.speed   # this will give me an error because this is encapsulated and can't be accessed "
   ]
  },
  {
   "cell_type": "code",
   "execution_count": 15,
   "id": "4dc4f16f-3361-4319-aa9d-710710276e9e",
   "metadata": {},
   "outputs": [
    {
     "data": {
      "text/plain": [
       "' Model :Toyota ,Year :2007 ,speed :90 '"
      ]
     },
     "execution_count": 15,
     "metadata": {},
     "output_type": "execute_result"
    }
   ],
   "source": [
    "test.display_data()    # you can display only through def function in the class "
   ]
  },
  {
   "cell_type": "code",
   "execution_count": 16,
   "id": "125f505d-c0a1-4e48-bf31-89642584d12a",
   "metadata": {},
   "outputs": [
    {
     "data": {
      "text/plain": [
       "90"
      ]
     },
     "execution_count": 16,
     "metadata": {},
     "output_type": "execute_result"
    }
   ],
   "source": [
    "test._test__speed      # you can access the encapsulated data by this only and from this we can also change the data "
   ]
  },
  {
   "cell_type": "code",
   "execution_count": 17,
   "id": "c0e4f5b7-9856-4676-ba95-6532a2114fac",
   "metadata": {},
   "outputs": [],
   "source": [
    "# Abstraction\n",
    "import abc      \n",
    "class pwskills:    \n",
    "    @abc.abstractmethod    \n",
    "    def student_details(self):\n",
    "        pass                     \n",
    "    @abc.abstractmethod\n",
    "    def students_assigment(self):\n",
    "        pass\n",
    "    @abc.abstractmethod\n",
    "    def students_marks(self):\n",
    "        pass"
   ]
  },
  {
   "cell_type": "code",
   "execution_count": 18,
   "id": "0bc62366-ef45-44b6-b4ee-6c68a4cfb461",
   "metadata": {},
   "outputs": [],
   "source": [
    "class data_science(pwskills):\n",
    "    def student_details(self):\n",
    "        print(\" The details of all the data science students in class 1\")\n",
    "    def students_assigment(self):\n",
    "        print(\" The assigment of all the data science students in class 1\")\n",
    "    def students_marks(self):\n",
    "        print(\" The marks of all the data science students in class 1\")"
   ]
  },
  {
   "cell_type": "code",
   "execution_count": 19,
   "id": "2f81059f-4ded-4e0b-960f-988967b76603",
   "metadata": {},
   "outputs": [],
   "source": [
    "class core_java(pwskills):\n",
    "    def student_details(self):\n",
    "        print(\" The details of all the core java students in class 2\")\n",
    "    def students_assigment(self):\n",
    "        print(\" The assigment of all the core java students in class 2\")\n",
    "    def students_marks(self):\n",
    "        print(\" The marks of all the core java students in class 2\")"
   ]
  },
  {
   "cell_type": "code",
   "execution_count": 20,
   "id": "176c4b2f-1a26-49c1-b1ba-fa64426e41b5",
   "metadata": {},
   "outputs": [],
   "source": [
    "data_science = data_science()\n",
    "core_java = core_java()"
   ]
  },
  {
   "cell_type": "code",
   "execution_count": 21,
   "id": "89c51413-f31f-455b-befb-6cd9c718daac",
   "metadata": {},
   "outputs": [
    {
     "name": "stdout",
     "output_type": "stream",
     "text": [
      " The details of all the data science students in class 1\n"
     ]
    }
   ],
   "source": [
    "data_science.student_details()"
   ]
  },
  {
   "cell_type": "code",
   "execution_count": 22,
   "id": "21f6f584-ffa6-47e2-941a-0ad7f83b2be6",
   "metadata": {},
   "outputs": [
    {
     "name": "stdout",
     "output_type": "stream",
     "text": [
      " The assigment of all the data science students in class 1\n"
     ]
    }
   ],
   "source": [
    "data_science.students_assigment()"
   ]
  },
  {
   "cell_type": "code",
   "execution_count": 23,
   "id": "d38182a5-6673-4f8d-98ed-4ab4c871b6e6",
   "metadata": {},
   "outputs": [
    {
     "name": "stdout",
     "output_type": "stream",
     "text": [
      " The details of all the core java students in class 2\n"
     ]
    }
   ],
   "source": [
    "core_java.student_details()"
   ]
  },
  {
   "cell_type": "code",
   "execution_count": 24,
   "id": "77dba51d-f0a3-4529-858c-ceb979cbd955",
   "metadata": {},
   "outputs": [
    {
     "name": "stdout",
     "output_type": "stream",
     "text": [
      " The assigment of all the core java students in class 2\n"
     ]
    }
   ],
   "source": [
    "core_java.students_assigment()"
   ]
  },
  {
   "cell_type": "markdown",
   "id": "14c5e86c-5b7f-4660-af0c-3529516a96c2",
   "metadata": {},
   "source": [
    "Ans 3 - The abc module in Python stands for \"Abstract Base Classes\". It provides a way to define abstract classes in Python, which are classes that have some unimplemented methods that must be implemented by their derived classes.\n",
    "\n",
    "abc module is used for defining abstract classes and their methods. An abstract class is a class that contains one or more abstract methods that do not have any implementation. Abstract classes can only be used as base classes, and their methods must be implemented by the derived classes. By defining an abstract class, we can define a blueprint or template for other classes to inherit from, which can ensure that certain methods are always implemented in a consistent way."
   ]
  },
  {
   "cell_type": "markdown",
   "id": "ac5d1b12-64d8-4a7f-b007-ce9b6c9a0954",
   "metadata": {},
   "source": [
    "Ans 4 - An abstract method is a method that is declared, but does not contain implementation. An abstract method in a base class identifies the functionality that should be implemented by all its subclasses. However, since the implementation of an abstract method would differ from one subclass to another, often the method body comprises just a pass statement. Every subclass of the base class will ride this method with its implementation. A class containing abstract methods is called abstract class.Python provides the abc module to use the abstraction in the Python program, syntax as:"
   ]
  }
 ],
 "metadata": {
  "kernelspec": {
   "display_name": "Python 3 (ipykernel)",
   "language": "python",
   "name": "python3"
  },
  "language_info": {
   "codemirror_mode": {
    "name": "ipython",
    "version": 3
   },
   "file_extension": ".py",
   "mimetype": "text/x-python",
   "name": "python",
   "nbconvert_exporter": "python",
   "pygments_lexer": "ipython3",
   "version": "3.10.8"
  }
 },
 "nbformat": 4,
 "nbformat_minor": 5
}
