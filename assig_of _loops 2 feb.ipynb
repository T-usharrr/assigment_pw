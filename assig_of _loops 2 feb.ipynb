{
 "cells": [
  {
   "cell_type": "markdown",
   "id": "a089f731-4078-4a4d-b317-838f39fadc9d",
   "metadata": {},
   "source": [
    "Ans 1 - For loop :-The for loop is used when we know that what will be the length of the loop and when we know how many times the statement has to be executed in that particular loop then in that the for loop is mostly used in.\n",
    "\n",
    "\n",
    "While loop:- the while loop is used when we have have to use the condition in the loop program and we did'nt know how many times the statement has to be executed in that particular loop program in that senario while loop is mostly used in it."
   ]
  },
  {
   "cell_type": "code",
   "execution_count": 1,
   "id": "424a2255-6f6a-498f-b775-0eba36a1bcfc",
   "metadata": {},
   "outputs": [
    {
     "name": "stdout",
     "output_type": "stream",
     "text": [
      "0\n",
      "1\n",
      "2\n",
      "3\n",
      "4\n"
     ]
    }
   ],
   "source": [
    "# for loop example\n",
    "for i in range(0,5,1):\n",
    "    print(i)"
   ]
  },
  {
   "cell_type": "code",
   "execution_count": 2,
   "id": "7df1bf1d-0dbc-46b6-96aa-f66e3d56dac4",
   "metadata": {},
   "outputs": [
    {
     "name": "stdout",
     "output_type": "stream",
     "text": [
      "3\n",
      "2\n",
      "1\n"
     ]
    }
   ],
   "source": [
    "# while loop example\n",
    "i=3\n",
    "while i!=0:\n",
    "    print(i)\n",
    "    i=i-1"
   ]
  },
  {
   "cell_type": "code",
   "execution_count": 3,
   "id": "74943092-d595-4ccd-8de1-127f09bb719e",
   "metadata": {},
   "outputs": [
    {
     "name": "stdout",
     "output_type": "stream",
     "text": [
      "sum of natural no upto 10 is  55\n",
      "product of natural no upto 10 is  3628800\n"
     ]
    }
   ],
   "source": [
    "# Ans 2- For loop\n",
    "sum=0\n",
    "pro=1\n",
    "for i in range(1,11,1):\n",
    "    sum=sum+i\n",
    "    pro=pro*i\n",
    "print(\"sum of natural no upto 10 is \",sum)\n",
    "print(\"product of natural no upto 10 is \",pro)"
   ]
  },
  {
   "cell_type": "code",
   "execution_count": 4,
   "id": "6cee2730-0bde-4722-8c77-c0e3996f955d",
   "metadata": {},
   "outputs": [
    {
     "name": "stdout",
     "output_type": "stream",
     "text": [
      "sum of natural no upto 10 is  55\n",
      "product of natural no upto 10 is  3628800\n"
     ]
    }
   ],
   "source": [
    "# While loop \n",
    "sum=0\n",
    "pro=1\n",
    "i=1;\n",
    "while i<=10:\n",
    "    sum=sum+i\n",
    "    pro=pro*i\n",
    "    i=i+1\n",
    "print(\"sum of natural no upto 10 is \",sum)\n",
    "print(\"product of natural no upto 10 is \",pro)"
   ]
  },
  {
   "cell_type": "code",
   "execution_count": 5,
   "id": "f9cca867-3478-4db3-904e-91ae00f3aa83",
   "metadata": {},
   "outputs": [
    {
     "name": "stdin",
     "output_type": "stream",
     "text": [
      "enter the no of units you consume = 310\n"
     ]
    },
    {
     "name": "stdout",
     "output_type": "stream",
     "text": [
      "2250.0  is your total amount\n"
     ]
    }
   ],
   "source": [
    "# Ans - 3 \n",
    "units=int(input(\"enter the no of units you consume =\"))\n",
    "if units<=100:\n",
    "    print(units * 4.5,\" is your total amount\")\n",
    "elif units<=200:\n",
    "    print(100 * 4.5+(units-100) * 6,\" is your total amount\")\n",
    "elif units<=300:\n",
    "    print(100 * 4.5+100 * 6 +(units-200) * 10,\" is your total amount\")\n",
    "elif units>300:\n",
    "    print(100 * 4.5 + 100 * 6 + 100 * 10 +(units-300) * 20,\" is your total amount\")\n"
   ]
  },
  {
   "cell_type": "code",
   "execution_count": 6,
   "id": "058b370d-915d-4241-8afb-44effcf9edb4",
   "metadata": {},
   "outputs": [
    {
     "name": "stdout",
     "output_type": "stream",
     "text": [
      "[8, 64, 125, 216, 512, 1000, 1728, 2744, 3375, 4096, 5832, 8000, 10648, 13824, 15625, 17576, 21952, 27000, 32768, 39304, 42875, 46656, 54872, 64000, 74088, 85184, 91125, 97336, 110592, 125000, 140608, 157464, 166375, 175616, 195112, 216000, 238328, 262144, 274625, 287496, 314432, 343000, 373248, 405224, 421875, 438976, 474552, 512000, 551368, 592704, 614125, 636056, 681472, 729000, 778688, 830584, 857375, 884736, 941192, 1000000]\n"
     ]
    }
   ],
   "source": [
    "# Ans -4\n",
    "# For loop\n",
    "l1=[]\n",
    "l=list(range(1,101,1))\n",
    "for i in l:\n",
    "    i=i**3\n",
    "    if i%4==0 or i%5==0:\n",
    "        l1.append(i)\n",
    "print(l1)"
   ]
  },
  {
   "cell_type": "code",
   "execution_count": 7,
   "id": "0506e163-b8a8-4a74-a884-ce0aaa8c4b76",
   "metadata": {},
   "outputs": [
    {
     "name": "stdout",
     "output_type": "stream",
     "text": [
      "[8]\n"
     ]
    }
   ],
   "source": [
    "# while loop\n",
    "l=[]\n",
    "i = 1\n",
    "while i<=100:\n",
    "    i = i**3\n",
    "    if i % 4 == 0 or i % 5== 0:\n",
    "        l.append(i)\n",
    "    i+=1\n",
    "print(l)"
   ]
  },
  {
   "cell_type": "code",
   "execution_count": 9,
   "id": "691ce16f-59d2-4159-a764-92940c3713b8",
   "metadata": {},
   "outputs": [
    {
     "name": "stdout",
     "output_type": "stream",
     "text": [
      "total no of vovels is = 12\n"
     ]
    }
   ],
   "source": [
    "# Ans -5\n",
    "count=0\n",
    "string=\"I want to become a data scientist\"\n",
    "vovels=\"aeiouAEIOU\"\n",
    "for i in string:\n",
    "    if i in vovels:\n",
    "        count+=1\n",
    "print(\"total no of vovels is =\",count)\n",
    "    "
   ]
  },
  {
   "cell_type": "code",
   "execution_count": null,
   "id": "0751ca82-a939-4a46-9d5c-c4e6c62001a5",
   "metadata": {},
   "outputs": [],
   "source": []
  }
 ],
 "metadata": {
  "kernelspec": {
   "display_name": "Python 3 (ipykernel)",
   "language": "python",
   "name": "python3"
  },
  "language_info": {
   "codemirror_mode": {
    "name": "ipython",
    "version": 3
   },
   "file_extension": ".py",
   "mimetype": "text/x-python",
   "name": "python",
   "nbconvert_exporter": "python",
   "pygments_lexer": "ipython3",
   "version": "3.10.8"
  }
 },
 "nbformat": 4,
 "nbformat_minor": 5
}
