{
 "cells": [
  {
   "cell_type": "markdown",
   "id": "a4af71d1-3380-4fed-a8e7-8f687715f559",
   "metadata": {},
   "source": [
    "# **Python Task 1**"
   ]
  },
  {
   "cell_type": "markdown",
   "id": "70c5bed0-d5b3-40b6-a10b-c16f765be596",
   "metadata": {},
   "source": [
    "Ans 1:"
   ]
  },
  {
   "cell_type": "code",
   "execution_count": 28,
   "id": "c4371278-7210-4f80-afe2-46b19176cbd3",
   "metadata": {},
   "outputs": [],
   "source": [
    "def extract_data(l):\n",
    "    l1=[]\n",
    "    for i in l:\n",
    "        if isinstance(i,(list,tuple)):       # this means i==list and i==tuple  \n",
    "            l1.extend(extract_data(i))           # isinstance is used to check the type of the data\n",
    "        elif isinstance(i,dict):\n",
    "            for k,v in i.items():\n",
    "                l1.extend(extract_data([k,v]))       # to extract the data in dict from keys and values \n",
    "        elif isinstance(i,set):\n",
    "            l1.extend(extract_data(i))               # extend is used because it break the data then insert into other list\n",
    "        else:\n",
    "            l1.append(i)        \n",
    "    return l1\n",
    "def product_of_data(l):\n",
    "    l1=extract_data(l)\n",
    "    f=1                                         # this function multiply all of int and float values in to find product of them\n",
    "    for i in l1:\n",
    "        if isinstance(i,(int,float)):\n",
    "            f=f*i\n",
    "        yield f"
   ]
  },
  {
   "cell_type": "code",
   "execution_count": 29,
   "id": "0c53792f-6b02-4f1d-bc7a-240f2d59d7e9",
   "metadata": {},
   "outputs": [
    {
     "name": "stdout",
     "output_type": "stream",
     "text": [
      "1\n",
      "2\n",
      "6\n",
      "24\n",
      "1056\n",
      "58080\n",
      "3833280\n",
      "3833280\n",
      "0\n",
      "0\n",
      "0\n",
      "0\n",
      "0\n",
      "0\n",
      "0\n",
      "0\n",
      "0\n",
      "0\n",
      "0\n",
      "0\n",
      "0\n",
      "0\n",
      "0\n",
      "0\n",
      "0\n",
      "0\n",
      "0\n",
      "0\n",
      "0\n",
      "0\n",
      "0\n",
      "0\n"
     ]
    }
   ],
   "source": [
    "l= [1,2,3,4, [44,55,66, True], False, (34,56,78,89,34), {1,2,3,3,2,1}, {1:34, \"key2\": [55, 67, 78, 89], 4: (45,\n",
    "22, 61, 34)}, [56, 'data science'], 'Machine Learning']\n",
    "for i in product_of_data(l):\n",
    "    print(i)"
   ]
  },
  {
   "cell_type": "markdown",
   "id": "e83ed3b8-92fc-4c7b-ad7f-aa1789366735",
   "metadata": {},
   "source": [
    "Ans 2:"
   ]
  },
  {
   "cell_type": "code",
   "execution_count": 20,
   "id": "4a03ba06-4c8c-45ef-845c-2d2524d2da10",
   "metadata": {},
   "outputs": [],
   "source": [
    "def encript(s):\n",
    "    s1=s.lower()\n",
    "    a_to_z={'a':'z','b': 'y','c': 'x','d': 'w',\n",
    "        'e': 'v','f': 'u','g': 't','h': 's',\n",
    "        'i': 'r','j': 'q','k': 'p','l': 'o',\n",
    "        'm': 'n','n': 'm','o': 'l','p': 'k','q': 'j',\n",
    "        'r': 'i','s': 'h','t': 'g','u': 'f','v': 'e',\n",
    "        'w': 'd','x': 'c','y': 'b','z': 'a',' ': '$'}\n",
    "    enc=\"\"\n",
    "    for i in s1:\n",
    "        if i in a_to_z:\n",
    "            enc+=a_to_z[i]\n",
    "        else:\n",
    "            enc+=i\n",
    "    return enc"
   ]
  },
  {
   "cell_type": "code",
   "execution_count": 21,
   "id": "d8e23475-7764-44f8-8568-a9c7e625913e",
   "metadata": {},
   "outputs": [
    {
     "data": {
      "text/plain": [
       "'r$dzmg$gl$yvxlnv$z$wzgz$hxrvmgrhg.'"
      ]
     },
     "execution_count": 21,
     "metadata": {},
     "output_type": "execute_result"
    }
   ],
   "source": [
    "s=\"I want to become a Data Scientist.\"\n",
    "encript(s)"
   ]
  }
 ],
 "metadata": {
  "kernelspec": {
   "display_name": "Python 3 (ipykernel)",
   "language": "python",
   "name": "python3"
  },
  "language_info": {
   "codemirror_mode": {
    "name": "ipython",
    "version": 3
   },
   "file_extension": ".py",
   "mimetype": "text/x-python",
   "name": "python",
   "nbconvert_exporter": "python",
   "pygments_lexer": "ipython3",
   "version": "3.10.8"
  }
 },
 "nbformat": 4,
 "nbformat_minor": 5
}
