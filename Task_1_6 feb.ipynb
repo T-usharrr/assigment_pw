{
 "cells": [
  {
   "cell_type": "markdown",
   "id": "a4af71d1-3380-4fed-a8e7-8f687715f559",
   "metadata": {},
   "source": [
    "# **Python Task 1**"
   ]
  },
  {
   "cell_type": "markdown",
   "id": "70c5bed0-d5b3-40b6-a10b-c16f765be596",
   "metadata": {},
   "source": [
    "Ans 1:"
   ]
  },
  {
   "cell_type": "markdown",
   "id": "abffe380-4b50-4778-9173-bd9c7a8586d3",
   "metadata": {},
   "source": [
    "# Thanks sir for the help and your hint i learn from it a lot "
   ]
  },
  {
   "cell_type": "code",
   "execution_count": 9,
   "id": "c4371278-7210-4f80-afe2-46b19176cbd3",
   "metadata": {},
   "outputs": [],
   "source": [
    "def breaking_of_data(l):\n",
    "    l1=[]\n",
    "    for i in l:\n",
    "        if isinstance(i,(int,float)) and not isinstance(i,bool):  # here isinstance is used to check the type of data\n",
    "            l1.append(i)                                             # here append is used because for int and float extend can't use \n",
    "        elif isinstance(i,(list,tuple,set)):            \n",
    "            for j in i:                                 # this for loop is used to break the data of the list,tuple,set inside the list given\n",
    "                if isinstance(j,(int ,float)) and not isinstance(j,bool):   # not bool is used so that not \"True and \"False\" value append without this the the cide will take the bool type data\n",
    "                    l1.append(j)\n",
    "        elif isinstance(i,dict):           \n",
    "            for k,v in i.items():              # this for loop is used to take the \"keys\" and \"values\" and check them and append to the list\n",
    "                if isinstance(k,(int,float)) and not isinstance(k,bool):\n",
    "                    l1.append(k)\n",
    "                elif isinstance(k,(list,tuple,set)):\n",
    "                    l1.extend(k)                # extend will break the data and add it into other list\n",
    "                if isinstance(v,(int,float))and not isinstance(v,bool):\n",
    "                    l1.append(v)\n",
    "                elif isinstance(v,(list,tuple,set)):\n",
    "                    l1.extend(v)\n",
    "    f=1\n",
    "    for i in l1:\n",
    "        f*=i\n",
    "    return f"
   ]
  },
  {
   "cell_type": "code",
   "execution_count": 10,
   "id": "0c53792f-6b02-4f1d-bc7a-240f2d59d7e9",
   "metadata": {},
   "outputs": [
    {
     "name": "stdout",
     "output_type": "stream",
     "text": [
      "4134711838987085478833841242112000\n"
     ]
    }
   ],
   "source": [
    "l= [1,2,3,4, [44,55,66, True], False, (34,56,78,89,34), {1,2,3,3,2,1}, {1:34, \"key2\": [55, 67, 78, 89], 4: (45,\n",
    "22, 61, 34)}, [56, 'data science'], 'Machine Learning']\n",
    "call=breaking_of_data(l)\n",
    "print(call)"
   ]
  },
  {
   "cell_type": "markdown",
   "id": "e83ed3b8-92fc-4c7b-ad7f-aa1789366735",
   "metadata": {},
   "source": [
    "Ans 2:"
   ]
  },
  {
   "cell_type": "code",
   "execution_count": 3,
   "id": "4a03ba06-4c8c-45ef-845c-2d2524d2da10",
   "metadata": {},
   "outputs": [],
   "source": [
    "def encript(s):\n",
    "    s1=s.lower()                        # converted the string into small case permantly\n",
    "    a_to_z={'a':'z','b': 'y','c': 'x','d': 'w',\n",
    "        'e': 'v','f': 'u','g': 't','h': 's',\n",
    "        'i': 'r','j': 'q','k': 'p','l': 'o',              # making a dict to of a to z and \" \" of keys and values is their changes character\n",
    "        'm': 'n','n': 'm','o': 'l','p': 'k','q': 'j',\n",
    "        'r': 'i','s': 'h','t': 'g','u': 'f','v': 'e',\n",
    "        'w': 'd','x': 'c','y': 'b','z': 'a',' ': '$'}\n",
    "    enc=\"\"\n",
    "    for i in s1:\n",
    "        if i in a_to_z:              # check if the s1 values is in dict\n",
    "            enc+=a_to_z[i]             # if yes insert the data into \"enc\" variable\n",
    "        else:\n",
    "            enc+=i                    # else rest of the puntuations is insert  into \"enc\" as it is \n",
    "    return enc"
   ]
  },
  {
   "cell_type": "code",
   "execution_count": 4,
   "id": "d8e23475-7764-44f8-8568-a9c7e625913e",
   "metadata": {},
   "outputs": [
    {
     "data": {
      "text/plain": [
       "'r$dzmg$gl$yvxlnv$z$wzgz$hxrvmgrhg.'"
      ]
     },
     "execution_count": 4,
     "metadata": {},
     "output_type": "execute_result"
    }
   ],
   "source": [
    "s=\"I want to become a Data Scientist.\"\n",
    "encript(s)"
   ]
  }
 ],
 "metadata": {
  "kernelspec": {
   "display_name": "Python 3 (ipykernel)",
   "language": "python",
   "name": "python3"
  },
  "language_info": {
   "codemirror_mode": {
    "name": "ipython",
    "version": 3
   },
   "file_extension": ".py",
   "mimetype": "text/x-python",
   "name": "python",
   "nbconvert_exporter": "python",
   "pygments_lexer": "ipython3",
   "version": "3.10.8"
  }
 },
 "nbformat": 4,
 "nbformat_minor": 5
}
