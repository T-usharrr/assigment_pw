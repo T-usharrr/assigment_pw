{
 "cells": [
  {
   "cell_type": "markdown",
   "id": "4e00b2c8-a9f0-4bc3-b46b-aafe5bb87b0a",
   "metadata": {},
   "source": [
    "# Assigment"
   ]
  },
  {
   "cell_type": "code",
   "execution_count": 1,
   "id": "1d46ffa7-a693-43e9-936c-35c0ca5738cf",
   "metadata": {},
   "outputs": [],
   "source": [
    "# Ans 1 -\n",
    "class vehicle :\n",
    "    def __init__(self,name_of_vehicle ,maximum_speed ,average_of_vehical):\n",
    "        self.name_of_vehicle = name_of_vehicle\n",
    "        self.maximum_speed = maximum_speed\n",
    "        self.average_of_vehical = average_of_vehical"
   ]
  },
  {
   "cell_type": "code",
   "execution_count": 2,
   "id": "85eb7b69-dfa8-4a73-ae04-bd617b7ff364",
   "metadata": {},
   "outputs": [],
   "source": [
    "my_vehicle = vehicle(\"toyota\", 200 ,60)"
   ]
  },
  {
   "cell_type": "code",
   "execution_count": 3,
   "id": "0d2e24fe-124a-4e32-85d9-687b1ac024d5",
   "metadata": {},
   "outputs": [
    {
     "data": {
      "text/plain": [
       "'toyota'"
      ]
     },
     "execution_count": 3,
     "metadata": {},
     "output_type": "execute_result"
    }
   ],
   "source": [
    "my_vehicle.name_of_vehicle"
   ]
  },
  {
   "cell_type": "code",
   "execution_count": 4,
   "id": "6621eb52-4c92-4ceb-9a35-527b8b7b931f",
   "metadata": {},
   "outputs": [
    {
     "data": {
      "text/plain": [
       "200"
      ]
     },
     "execution_count": 4,
     "metadata": {},
     "output_type": "execute_result"
    }
   ],
   "source": [
    "my_vehicle.maximum_speed"
   ]
  },
  {
   "cell_type": "code",
   "execution_count": 5,
   "id": "13452d91-9b9d-48f7-853f-6506bd0aaabe",
   "metadata": {},
   "outputs": [
    {
     "data": {
      "text/plain": [
       "60"
      ]
     },
     "execution_count": 5,
     "metadata": {},
     "output_type": "execute_result"
    }
   ],
   "source": [
    "my_vehicle.average_of_vehical"
   ]
  },
  {
   "cell_type": "code",
   "execution_count": 6,
   "id": "30a82bc3-41f0-4eeb-9bb1-199a732a9371",
   "metadata": {},
   "outputs": [],
   "source": [
    "# Ans 2 -\n",
    "class car(vehicle):\n",
    "    def seating_capacity(self ,capacity):\n",
    "        self.capacity = capacity\n",
    "    def display(self):\n",
    "        return f'The {self.name_of_vehicle} has capacity of {self.capacity} seatings'"
   ]
  },
  {
   "cell_type": "code",
   "execution_count": 7,
   "id": "199df591-7a8b-45e1-908d-4c4d7ed3f497",
   "metadata": {},
   "outputs": [],
   "source": [
    "car1 = car(\"tata\",180,50)\n",
    "car2 = car(\"mahindra\",170,40)"
   ]
  },
  {
   "cell_type": "code",
   "execution_count": 8,
   "id": "201cee64-b7e6-4279-b47e-d356bf84ac21",
   "metadata": {},
   "outputs": [
    {
     "data": {
      "text/plain": [
       "'The tata has capacity of 4 seatings'"
      ]
     },
     "execution_count": 8,
     "metadata": {},
     "output_type": "execute_result"
    }
   ],
   "source": [
    "car1.seating_capacity(4)\n",
    "car1.display()"
   ]
  },
  {
   "cell_type": "markdown",
   "id": "d86938ff-8198-4de9-ae9c-02bfb9d58e82",
   "metadata": {},
   "source": [
    "Ans 3 - Multiple inheritance is a process in which the class takes access the variables and method of more than one class is called multiple inheritance ,it takes the values or methods from those classses which are taking values and method from the perent class from which that class has the access to of that perent class and the callable class to "
   ]
  },
  {
   "cell_type": "code",
   "execution_count": 9,
   "id": "ea1dd10e-16db-4ee6-b28f-9861ca61852a",
   "metadata": {},
   "outputs": [],
   "source": [
    "class parent:\n",
    "    def class1(self):\n",
    "        print(\"This is the first class\")\n",
    "class child(parent):\n",
    "    def class2(self):\n",
    "        print(\"This is the second class\")\n",
    "class grand_child(child):\n",
    "    pass"
   ]
  },
  {
   "cell_type": "code",
   "execution_count": 10,
   "id": "dad229a0-1a7f-4991-b9bc-c8b8f403029d",
   "metadata": {},
   "outputs": [],
   "source": [
    "grand_child = grand_child()"
   ]
  },
  {
   "cell_type": "code",
   "execution_count": 11,
   "id": "088e3acc-9848-47a3-8247-23400aa2a592",
   "metadata": {},
   "outputs": [
    {
     "name": "stdout",
     "output_type": "stream",
     "text": [
      "This is the first class\n"
     ]
    }
   ],
   "source": [
    "grand_child.class1()"
   ]
  },
  {
   "cell_type": "code",
   "execution_count": 12,
   "id": "9d007f45-4dc8-4e02-a75f-9fb6eb3c8993",
   "metadata": {},
   "outputs": [
    {
     "name": "stdout",
     "output_type": "stream",
     "text": [
      "This is the second class\n"
     ]
    }
   ],
   "source": [
    "grand_child.class2()"
   ]
  },
  {
   "cell_type": "markdown",
   "id": "00ee3eb0-fc3a-4b93-b8cc-70f39c70b004",
   "metadata": {},
   "source": [
    "Ans 4 - In encapsulation the keyword is converted into the value that can't change by the user it can only change by the coder or the maker so to gave the access to the user we use funtion to set the value in the encapsulated argument and get the value function so that the user can access the encapsulation."
   ]
  },
  {
   "cell_type": "code",
   "execution_count": 13,
   "id": "58bf1162-0444-4c32-adf0-9fd289bb2207",
   "metadata": {},
   "outputs": [],
   "source": [
    "class student:\n",
    "    def __init__(self, name, roll_no ,section):\n",
    "        self.name = name\n",
    "        self.roll_no = roll_no\n",
    "        self.__section = section\n",
    "    def set_section(self ,section):   # for the user so he can change\n",
    "        self.__section = section\n",
    "    def get_section(self):\n",
    "        return self.__section"
   ]
  },
  {
   "cell_type": "code",
   "execution_count": 14,
   "id": "63b5b0c9-7b13-4046-90e1-6242037f6da5",
   "metadata": {},
   "outputs": [],
   "source": [
    "student = student(\"Tushar\", 12 ,\"A\")"
   ]
  },
  {
   "cell_type": "code",
   "execution_count": 15,
   "id": "60d22a87-3ce4-4346-9d2b-eecb4fafa03c",
   "metadata": {},
   "outputs": [],
   "source": [
    "student.set_section(\"B\")"
   ]
  },
  {
   "cell_type": "code",
   "execution_count": 16,
   "id": "1172dde2-66ff-4d74-99e2-f8134ea2abcb",
   "metadata": {},
   "outputs": [
    {
     "data": {
      "text/plain": [
       "'B'"
      ]
     },
     "execution_count": 16,
     "metadata": {},
     "output_type": "execute_result"
    }
   ],
   "source": [
    "student.get_section()"
   ]
  },
  {
   "cell_type": "markdown",
   "id": "5519f9c9-4e56-4866-be10-b188d3c5c516",
   "metadata": {},
   "source": [
    "Ans 5 - Method overriding is a feature of object-oriented programming in which a subclass provides a new implementation of a method that is already defined in its superclass. This allows the subclass to provide its own version of the method, which may have different behavior or functionality than the superclass's implementation."
   ]
  },
  {
   "cell_type": "code",
   "execution_count": 17,
   "id": "fda1d178-cb4c-4a7a-b855-a1e9212d3833",
   "metadata": {},
   "outputs": [],
   "source": [
    "class Animal:\n",
    "    def make_sound(self):\n",
    "        print(\"The animal makes a sound.\")\n",
    "\n",
    "class Cat(Animal):\n",
    "    def make_sound(self):\n",
    "        print(\"Meow\")\n",
    "\n",
    "class Dog(Animal):\n",
    "    def make_sound(self):\n",
    "        print(\"Woof\")"
   ]
  },
  {
   "cell_type": "code",
   "execution_count": 18,
   "id": "807cce02-e7b3-41c6-9efd-dee1981102e2",
   "metadata": {},
   "outputs": [],
   "source": [
    "my_cat = Cat()\n",
    "my_dog = Dog()"
   ]
  },
  {
   "cell_type": "code",
   "execution_count": 19,
   "id": "33d88844-991a-45a8-b74a-eb9c5b8d1bc8",
   "metadata": {},
   "outputs": [
    {
     "name": "stdout",
     "output_type": "stream",
     "text": [
      "Meow\n",
      "Woof\n"
     ]
    }
   ],
   "source": [
    "my_cat.make_sound()\n",
    "my_dog.make_sound()"
   ]
  },
  {
   "cell_type": "raw",
   "id": "4f368edd-c55d-4e8a-840a-2f9fbeda7a78",
   "metadata": {},
   "source": [
    "Abstraction is a concept in which we hide the complexity of a system or an object and only expose the essential features or functionality to the outside world. It helps to simplify the code and make it more manageable and reusable. In Python, abstraction can be achieved through the use of abstract classes or interfaces.\n",
    "\n",
    "Overwriting, on the other hand, is a feature of object-oriented programming in which a subclass provides a new implementation of a method that is already defined in its superclass. This allows the subclass to provide its own version of the method, which may have different behavior or functionality than the superclass's implementation. In Python, method overwriting is achieved by defining a method in the subclass with the same name as a method in the superclass."
   ]
  }
 ],
 "metadata": {
  "kernelspec": {
   "display_name": "Python 3 (ipykernel)",
   "language": "python",
   "name": "python3"
  },
  "language_info": {
   "codemirror_mode": {
    "name": "ipython",
    "version": 3
   },
   "file_extension": ".py",
   "mimetype": "text/x-python",
   "name": "python",
   "nbconvert_exporter": "python",
   "pygments_lexer": "ipython3",
   "version": "3.10.8"
  }
 },
 "nbformat": 4,
 "nbformat_minor": 5
}
