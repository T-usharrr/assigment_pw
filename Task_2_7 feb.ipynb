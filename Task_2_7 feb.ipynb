{
 "cells": [
  {
   "cell_type": "markdown",
   "id": "3493ed34-a8cc-4d1d-b547-f26438fadd27",
   "metadata": {},
   "source": [
    "# **Python Task 2**"
   ]
  },
  {
   "cell_type": "markdown",
   "id": "0a239e09-0413-4f41-990c-8bd14f7b36b6",
   "metadata": {},
   "source": [
    "### Ans -1"
   ]
  },
  {
   "cell_type": "code",
   "execution_count": 1,
   "id": "52a2224c-51df-4fe0-bf51-c4de35b512b3",
   "metadata": {},
   "outputs": [],
   "source": [
    "def check_pass(password):\n",
    "    c=0\n",
    "    for item in password:\n",
    "        symbols=ord(item)\n",
    "        if symbols>=36 and symbols<=64:\n",
    "            c+=1\n",
    "    if len(password)!=10:\n",
    "        return \"Invalied password ,Try to make password 10 characters long\"\n",
    "    if sum(1 for i in password if i.isupper()) < 2 or sum(1 for i in password if i.islower())<2:\n",
    "        return \"Invalid password ,Try to make password with atleast 2 upper and 3 lower character\"\n",
    "    if sum(1 for i in password if i.isdigit()) >=2:\n",
    "        return \"Invaild password ,Try to make password with atleast 1 numeric value not more than that\"\n",
    "    if c > 3:\n",
    "        return \"Invalid password ,Try to make password with atleast 3 special symbols not more than that\"\n",
    "    return \"Valid password\""
   ]
  },
  {
   "cell_type": "code",
   "execution_count": 2,
   "id": "d3e5519d-af55-4da8-9935-3b9f08f9f4e2",
   "metadata": {},
   "outputs": [],
   "source": [
    "# there is no function in the string that check the string has symbols in it so i used \"ord()\" function which find the ASCII value of the int,char,symbols\n",
    "# len is to check the password should be to exact length of 10\n",
    "# i.isupper() and i.islower() is to check the no of character in \"password\" and sum is used to add the true value and check the condition\n",
    "# we have to gave the opposit condition so that the condition is false code can move further off true it returns the statement and ends the function "
   ]
  },
  {
   "cell_type": "code",
   "execution_count": 3,
   "id": "9ff06171-a041-4990-a35f-759aae416f06",
   "metadata": {},
   "outputs": [
    {
     "data": {
      "text/plain": [
       "'Valid password'"
      ]
     },
     "execution_count": 3,
     "metadata": {},
     "output_type": "execute_result"
    }
   ],
   "source": [
    "check_pass(\"Hi_my_Name\")"
   ]
  },
  {
   "cell_type": "code",
   "execution_count": 4,
   "id": "1b3a13d4-1318-4530-97af-40f385e9a5a4",
   "metadata": {},
   "outputs": [
    {
     "data": {
      "text/plain": [
       "'Invalid password ,Try to make password with atleast 2 upper and 3 lower character'"
      ]
     },
     "execution_count": 4,
     "metadata": {},
     "output_type": "execute_result"
    }
   ],
   "source": [
    "check_pass(\"Hi_my_name\")"
   ]
  },
  {
   "cell_type": "code",
   "execution_count": 5,
   "id": "d954552b-d8fb-43c9-925d-ab58c7e7cab2",
   "metadata": {},
   "outputs": [
    {
     "data": {
      "text/plain": [
       "'Invalid password ,Try to make password with atleast 2 upper and 3 lower character'"
      ]
     },
     "execution_count": 5,
     "metadata": {},
     "output_type": "execute_result"
    }
   ],
   "source": [
    "check_pass(\"HI_MY_NAMe\")"
   ]
  },
  {
   "cell_type": "code",
   "execution_count": 6,
   "id": "f13d1eb8-f780-47f6-9eb6-4d3e4ceea726",
   "metadata": {},
   "outputs": [
    {
     "data": {
      "text/plain": [
       "'Invaild password ,Try to make password with atleast 1 numeric value not more than that'"
      ]
     },
     "execution_count": 6,
     "metadata": {},
     "output_type": "execute_result"
    }
   ],
   "source": [
    "check_pass(\"Hi_my_N123\")"
   ]
  },
  {
   "cell_type": "code",
   "execution_count": 7,
   "id": "dfeb4d22-b4d8-4db8-a06d-e31de392a723",
   "metadata": {},
   "outputs": [
    {
     "data": {
      "text/plain": [
       "'Valid password'"
      ]
     },
     "execution_count": 7,
     "metadata": {},
     "output_type": "execute_result"
    }
   ],
   "source": [
    "check_pass(\"Hi_my_Nam1\")"
   ]
  },
  {
   "cell_type": "code",
   "execution_count": 8,
   "id": "5e3fd65e-1b26-4582-ba35-d9c2922434d0",
   "metadata": {},
   "outputs": [
    {
     "data": {
      "text/plain": [
       "'Invalid password ,Try to make password with atleast 3 special symbols not more than that'"
      ]
     },
     "execution_count": 8,
     "metadata": {},
     "output_type": "execute_result"
    }
   ],
   "source": [
    "check_pass(\"Hi_My----e\")"
   ]
  },
  {
   "cell_type": "markdown",
   "id": "0a319852-c4e9-4eb6-946d-3b6a05b3f741",
   "metadata": {},
   "source": [
    "### Ans -2"
   ]
  },
  {
   "cell_type": "code",
   "execution_count": 9,
   "id": "fe2675fa-aebd-443b-89e8-81c0ea6710f0",
   "metadata": {},
   "outputs": [
    {
     "data": {
      "text/plain": [
       "['hii', 'hello']"
      ]
     },
     "execution_count": 9,
     "metadata": {},
     "output_type": "execute_result"
    }
   ],
   "source": [
    "# check if a string starts with a particular letter\n",
    "l=[\"hii\",\"hello\",\"my\",\"name\",\"is\",\"tushar\"]\n",
    "a=list(filter(lambda l: l.startswith(\"h\"),l))\n",
    "a"
   ]
  },
  {
   "cell_type": "code",
   "execution_count": 56,
   "id": "14170538-68aa-461c-815b-c96d8ad80079",
   "metadata": {},
   "outputs": [
    {
     "data": {
      "text/plain": [
       "['34', '123']"
      ]
     },
     "execution_count": 56,
     "metadata": {},
     "output_type": "execute_result"
    }
   ],
   "source": [
    "# Check if the string is numeric\n",
    "l=[\"hii\",\"hello\",\"34\",\"name\",\"is\",\"123\"]\n",
    "a=list(filter(lambda l: l.isnumeric(),l))\n",
    "a"
   ]
  },
  {
   "cell_type": "code",
   "execution_count": 22,
   "id": "19e9682a-c918-4d9c-98a7-a41da4577edd",
   "metadata": {},
   "outputs": [
    {
     "data": {
      "text/plain": [
       "[('orange', 80), ('mango', 99), ('grapes', 1000)]"
      ]
     },
     "execution_count": 22,
     "metadata": {},
     "output_type": "execute_result"
    }
   ],
   "source": [
    "# Sort a list of tuples having fruit names and their quantity. [(\"mango\",99),(\"orange\",80), (\"grapes\", 1000)\n",
    "l=[(\"mango\",99),(\"orange\",80), (\"grapes\", 1000)]\n",
    "a=sorted(l,key=lambda l: l[1])     # here it takes iterable and \"key\" whick is a keyword whick takes element from l[1] in this case and sort the int values\n",
    "a"
   ]
  },
  {
   "cell_type": "code",
   "execution_count": 25,
   "id": "82026017-d0a8-45f3-ad55-4be03047c040",
   "metadata": {},
   "outputs": [
    {
     "data": {
      "text/plain": [
       "[1, 4, 9, 16, 25, 36, 49, 64, 81, 100]"
      ]
     },
     "execution_count": 25,
     "metadata": {},
     "output_type": "execute_result"
    }
   ],
   "source": [
    "# Find the squares of numbers from 1 to 10\n",
    "[i**2 for i in range(1,11,1)]"
   ]
  },
  {
   "cell_type": "code",
   "execution_count": 33,
   "id": "6b1b2754-877a-45d0-bc11-00c4ca7a43af",
   "metadata": {},
   "outputs": [
    {
     "data": {
      "text/plain": [
       "[1.0,\n",
       " 1.2599210498948732,\n",
       " 1.4422495703074083,\n",
       " 1.5874010519681994,\n",
       " 1.7099759466766968,\n",
       " 1.8171205928321397,\n",
       " 1.912931182772389,\n",
       " 2.0,\n",
       " 2.080083823051904,\n",
       " 2.154434690031884]"
      ]
     },
     "execution_count": 33,
     "metadata": {},
     "output_type": "execute_result"
    }
   ],
   "source": [
    "# Find the cube root of numbers from 1 to 10\n",
    "[i**(1/3) for i in range(1,11,1)]"
   ]
  },
  {
   "cell_type": "code",
   "execution_count": 53,
   "id": "358159c8-b7df-42d0-ae4d-6f8663669e0f",
   "metadata": {},
   "outputs": [
    {
     "data": {
      "text/plain": [
       "'even'"
      ]
     },
     "execution_count": 53,
     "metadata": {},
     "output_type": "execute_result"
    }
   ],
   "source": [
    "# Check if a given number is even\n",
    "n=4\n",
    "a=lambda n:\"even\" if n%2==0 else \"odd\"\n",
    "a(n)                                   "
   ]
  },
  {
   "cell_type": "raw",
   "id": "bcbeff81-a0de-4fa1-9418-1b78aaff03c8",
   "metadata": {},
   "source": [
    "# my thought is the lambda calls only list,tuple,dict inside lambda and single int is in the calling down"
   ]
  },
  {
   "cell_type": "code",
   "execution_count": 57,
   "id": "b05f1fa7-cb44-411b-892f-488d3feac1ca",
   "metadata": {},
   "outputs": [
    {
     "data": {
      "text/plain": [
       "[1, 3, 5, 7, 9]"
      ]
     },
     "execution_count": 57,
     "metadata": {},
     "output_type": "execute_result"
    }
   ],
   "source": [
    "# Filter odd numbers from the given list.\n",
    "l=[1,2,3,4,5,6,7,8,9,10]\n",
    "[i for i in l if i%2!=0]"
   ]
  },
  {
   "cell_type": "code",
   "execution_count": 64,
   "id": "dd5149f9-1c66-4abc-a665-0d4e19063420",
   "metadata": {},
   "outputs": [
    {
     "name": "stdout",
     "output_type": "stream",
     "text": [
      "[-1, -2, -3, -4, -5]\n",
      "[1, 2, 3, 4, 5, 6, 0]\n"
     ]
    }
   ],
   "source": [
    "# Sort a list of integers into positive and negative integers lists.\n",
    "l=[1,2,3,4,5,6,-1,-2,-3,-4,-5,0]\n",
    "negative=[i for i in l if i<0]\n",
    "positive=[i for i in l if i>=0]\n",
    "print(negative)\n",
    "print(positive)"
   ]
  }
 ],
 "metadata": {
  "kernelspec": {
   "display_name": "Python 3 (ipykernel)",
   "language": "python",
   "name": "python3"
  },
  "language_info": {
   "codemirror_mode": {
    "name": "ipython",
    "version": 3
   },
   "file_extension": ".py",
   "mimetype": "text/x-python",
   "name": "python",
   "nbconvert_exporter": "python",
   "pygments_lexer": "ipython3",
   "version": "3.10.8"
  }
 },
 "nbformat": 4,
 "nbformat_minor": 5
}
