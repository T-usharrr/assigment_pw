{
 "cells": [
  {
   "cell_type": "markdown",
   "id": "1ef7886b-fa8c-49ea-bd4a-22117a07205e",
   "metadata": {},
   "source": [
    "# Assigment"
   ]
  },
  {
   "cell_type": "markdown",
   "id": "4a62c4a9-3a19-41df-b230-45e977abfdb1",
   "metadata": {},
   "source": [
    "Ans-1 -\n",
    "Class is is used as a blueprint of code for creating an object in the code .It used set of arguments to input the data and use method (def) to \n",
    "gave the condition orr insert or return the code and gave or share all the values too the object to access the data from the class. "
   ]
  },
  {
   "cell_type": "code",
   "execution_count": 2,
   "id": "fc731de1-832d-4714-b916-f1489cb05014",
   "metadata": {},
   "outputs": [],
   "source": [
    "class test:                                           # this is the scelatian or blueprint of the code\n",
    "    def __init__(self,name,class_,roll_no):\n",
    "        self.name=name\n",
    "        self.class_=class_\n",
    "        self.roll_no=roll_no\n",
    "    def return_value(self):\n",
    "        return f\"hii my name is {self.name} i am in class {self.class_} and my roll no is {self.roll_no}\""
   ]
  },
  {
   "cell_type": "code",
   "execution_count": 4,
   "id": "94e7ac22-1285-4dab-9bb7-25fd83eeb877",
   "metadata": {},
   "outputs": [
    {
     "data": {
      "text/plain": [
       "'hii my name is Tushar arora i am in class 12 and my roll no is 26'"
      ]
     },
     "execution_count": 4,
     "metadata": {},
     "output_type": "execute_result"
    }
   ],
   "source": [
    "tushar=test(\"Tushar arora\",12,26)              # \"tushar\" is the object of that class\n",
    "tushar.return_value()"
   ]
  },
  {
   "cell_type": "markdown",
   "id": "a71972c7-538a-455e-bc93-152e003c987a",
   "metadata": {},
   "source": [
    "Ans 2 -\n",
    "1. Encapsulation\n",
    "2. Inheritance\n",
    "3. Polimorphism\n",
    "4. Abstraction"
   ]
  },
  {
   "cell_type": "code",
   "execution_count": null,
   "id": "a42ebb11-750b-45d9-8708-3734307576dc",
   "metadata": {},
   "outputs": [],
   "source": [
    "Ans 3 -\n",
    "# \"__init__\" is used when the code has to take the input from the user to run the code further and it helps to input the data given by the user in\n",
    "# the class."
   ]
  },
  {
   "cell_type": "code",
   "execution_count": 7,
   "id": "feff32c5-8fb2-43ef-92e3-27bf0aa253f4",
   "metadata": {},
   "outputs": [],
   "source": [
    "class test1:\n",
    "    def __init__(self,phone_no,gender):      # here __init is used to insert the data provided by the user in the class as an argument\n",
    "        self.phone_no=phone_no\n",
    "        self.gender=gender\n",
    "    def return_data(self):\n",
    "        return f\"phone no {self.phone_no} and gender in {self.gender}\""
   ]
  },
  {
   "cell_type": "code",
   "execution_count": 8,
   "id": "55c02290-1375-4b67-8f89-6b2acc0cb5e9",
   "metadata": {},
   "outputs": [
    {
     "data": {
      "text/plain": [
       "'phone no 2828282828 and gender in male'"
      ]
     },
     "execution_count": 8,
     "metadata": {},
     "output_type": "execute_result"
    }
   ],
   "source": [
    "rohan=test1(\"2828282828\",\"male\")\n",
    "rohan.return_data()"
   ]
  },
  {
   "cell_type": "markdown",
   "id": "77c5478f-8b60-4ea9-b5ad-55a1a7c00a49",
   "metadata": {},
   "source": [
    "Ans 4 -\n",
    "Self is used to class to help the class to recognize the function or the data used in the class is the part of the class and can be used anywhere in\n",
    "the class .It is not a keyword you can change it by any name and can use same like self"
   ]
  },
  {
   "cell_type": "markdown",
   "id": "a0f0c194-86b2-4368-918a-71aa250e5275",
   "metadata": {},
   "source": [
    "Ans 5 -\n",
    "Inheritance allow us to create a new class based on the existing class or known as parent class .It takes all the attributes and method from the\n",
    "parent class "
   ]
  },
  {
   "cell_type": "code",
   "execution_count": 13,
   "id": "8f942d9a-d0fe-43dc-8b92-7cf9657bf09c",
   "metadata": {},
   "outputs": [],
   "source": [
    "# here we are defining a parent class\n",
    "class test2:\n",
    "    def __init__(self, name, phone):\n",
    "        self.name = name\n",
    "        self.phone = phone\n",
    "\n",
    "    def return_data(self):\n",
    "        return f\"{self.name} phone no is  {self.phone}\"\n",
    "\n",
    "# here we are defining a subclass that inherits from test2\n",
    "class details(test2):\n",
    "    def __init__(self, name):\n",
    "        super().__init__(name,161672829)     # \"super()\" is used to call the constructor from the parent class"
   ]
  },
  {
   "cell_type": "code",
   "execution_count": 14,
   "id": "f6a7da92-014e-438c-ad05-053737d8d0d5",
   "metadata": {},
   "outputs": [
    {
     "data": {
      "text/plain": [
       "'sumit phone no is  161672829'"
      ]
     },
     "execution_count": 14,
     "metadata": {},
     "output_type": "execute_result"
    }
   ],
   "source": [
    "sumit = details(\"sumit\")\n",
    "sumit.return_data() "
   ]
  }
 ],
 "metadata": {
  "kernelspec": {
   "display_name": "Python 3 (ipykernel)",
   "language": "python",
   "name": "python3"
  },
  "language_info": {
   "codemirror_mode": {
    "name": "ipython",
    "version": 3
   },
   "file_extension": ".py",
   "mimetype": "text/x-python",
   "name": "python",
   "nbconvert_exporter": "python",
   "pygments_lexer": "ipython3",
   "version": "3.10.8"
  }
 },
 "nbformat": 4,
 "nbformat_minor": 5
}
